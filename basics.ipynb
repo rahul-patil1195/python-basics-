{
  "cells": [
    {
      "cell_type": "code",
      "execution_count": null,
      "metadata": {
        "id": "Mpd5vFcR1QPL"
      },
      "outputs": [],
      "source": []
    },
    {
      "cell_type": "markdown",
      "metadata": {
        "id": "OVLIs5YQ1nJc"
      },
      "source": [
        " #Python Basics Questions\n"
      ]
    },
    {
      "cell_type": "markdown",
      "metadata": {
        "id": "mNF27bDo28fa"
      },
      "source": [
        "1. what is python and what is popular?\n",
        "   - python is a high-level interpreted programming language know for the simplicity, veracity. it is the one of the most popular programming languages.\n",
        "Why popular\n",
        "1.\tEasy to use\n",
        "2.\tpython is a popular because\n",
        "3.\tWidely used in the industry\n",
        "4.\tA lot of libraries\n",
        "5.\tUse in automation\n",
        "6.\tVeracity\n"
      ]
    },
    {
      "cell_type": "markdown",
      "metadata": {
        "id": "9Q-Tgucp2zWT"
      },
      "source": []
    },
    {
      "cell_type": "code",
      "execution_count": null,
      "metadata": {
        "id": "gjmqz75h3bKO"
      },
      "outputs": [],
      "source": []
    },
    {
      "cell_type": "markdown",
      "metadata": {},
      "source": [
        "2. what is interpreted in python?\n",
        " - Python is the interpreted language means python code is executed code line by line\n"
      ]
    },
    {
      "cell_type": "markdown",
      "metadata": {
        "id": "x5aQlIh-5vcD"
      },
      "source": [
        "3.what are predefined keywords in python.?\n",
        "  - Predefined keywords mean already defined in the python are reserved words that have specific meaning and purpose in the language. They can’t use as a variable, function. These keywords are case sensitive and part of the python syntax.\n",
        "\t Same predefined keywords are: - true, false, if, else, elseif, and, or, not, break,continue etc\n"
      ]
    },
    {
      "cell_type": "markdown",
      "metadata": {
        "id": "7V1CBz6S3cdK"
      },
      "source": []
    },
    {
      "cell_type": "markdown",
      "metadata": {
        "id": "tTxx9mLH5-NO"
      },
      "source": [
        "4.can keywords be used as variable names?\n",
        "  - No, keywords cannot be used as variable names in python programming languages. Keywords are reserved words that have special meanings and are part of the syntax of the language. They are used to define the structure of the code keywords have specific meaning.                                  For example: - true, false, if, else, elseif, and, or, not, break, continue etc"
      ]
    },
    {
      "cell_type": "code",
      "execution_count": null,
      "metadata": {
        "id": "PB3fYjkW6H3W"
      },
      "outputs": [],
      "source": []
    },
    {
      "cell_type": "markdown",
      "metadata": {
        "id": "AEgqztF06Kxh"
      },
      "source": [
        "5.what is mutability in python?\n",
        "  - objects/container whose state or value can be changed after they are created are called mutability. This includes adding, removing, or changing the values of the elements in the list.\n",
        "   for example: - list is a type of mutable support  "
      ]
    },
    {
      "cell_type": "markdown",
      "metadata": {
        "id": "tsjdIdad6JtM"
      },
      "source": []
    },
    {
      "cell_type": "markdown",
      "metadata": {
        "id": "vTpwi_ia6lqS"
      },
      "source": [
        "6.why are list mutable ,but tuple are immutable?\n",
        "  - List mutable: -\n",
        "Python where lists are mutable and tuples are immutable Mutability means that the contents of a list can be modified after it is created. This includes adding, removing, or changing the values of the elements in the list.\n",
        "\n",
        "Tuples Immutable:\n",
        "\n",
        "Immutability means that once a tuple is created, its contents cannot be changed. You can't modify, add, or remove elements from a tuple after it's created.\n",
        "\n"
      ]
    },
    {
      "cell_type": "code",
      "execution_count": null,
      "metadata": {
        "id": "LI1u8bR77dwZ"
      },
      "outputs": [],
      "source": []
    },
    {
      "cell_type": "markdown",
      "metadata": {
        "id": "qESynSD37fzC"
      },
      "source": [
        "7.what is the difference between “==” and “is” operator in python?\n",
        "  - Equal to: -\n",
        "   The == operator checks if the values of two objects are equal. It compares the content or data that the objects hold, not their identities or memory locations.\n",
        "Example:\n",
        "\n",
        "a = (1, 2, 3)\n",
        "\n",
        " b = (1, 2, 3)\n",
        "\n",
        " print(a == b)\n",
        "\n",
        "is operator:-\n",
        "\n",
        " - The is operator checks if two objects are identical. It checks whether the two operands are the same object  which means it compares their memory addresses.\n",
        "Example:\n",
        "\n",
        " a = (1, 2, 3)\n",
        "\n",
        " b = (1, 2, 3)\n",
        "\n",
        " print(a is b)\n",
        "\n"
      ]
    },
    {
      "cell_type": "markdown",
      "metadata": {
        "id": "N-O_6GFJ8U7m"
      },
      "source": [
        "8.What are logical operator in python?\n",
        " - Logical operator include logical and, logical or, logical not it is used  to combine conditional statements or expressions. These operators allow you to perform operations based on Boolean values (True or False).\n",
        "   \n",
        "   and_______OR\n",
        "\n",
        "   T T = T      >     T T = T\n",
        "\n",
        "   T F = F      > T F = T\n",
        "\n",
        "   F T = F > F T = T\n",
        "\n",
        "   F F =F   > F F =F"
      ]
    },
    {
      "cell_type": "code",
      "execution_count": null,
      "metadata": {
        "id": "2r0PTL6t8MVr"
      },
      "outputs": [],
      "source": []
    },
    {
      "cell_type": "markdown",
      "metadata": {
        "id": "TsuCa9lH-I-x"
      },
      "source": [
        "9.What is type casting in python?\n",
        "  -  The process of changing the data type of a value/object is called as a type casting. There are two type of type casting implicit typecasting and  explicit typecasting\n",
        "\n",
        "  * implicit typecasting: python understand the datatype\n",
        "\n",
        "  * explicit typecasting: convert data type using inbuilt functions like str, int, float, bool\n"
      ]
    },
    {
      "cell_type": "code",
      "execution_count": null,
      "metadata": {
        "id": "AXUS80Lf-fL3"
      },
      "outputs": [],
      "source": []
    },
    {
      "cell_type": "markdown",
      "metadata": {
        "id": "EQC2PB56-hCV"
      },
      "source": [
        "10. what is the difference between implicit and explicit type casting?\n",
        "    -"
      ]
    },
    {
      "cell_type": "markdown",
      "metadata": {
        "id": "hhL44DTa-o39"
      },
      "source": []
    },
    {
      "cell_type": "markdown",
      "metadata": {
        "id": "LMbbkG0J-quV"
      },
      "source": [
        "10. what is the difference between implicit and explicit type casting?\n",
        "    - Implicit type casting occurs automatically when python encounters an operations that involves data type.\n",
        "\n",
        "Example\n",
        "\n",
        "A=5 # int\n",
        "\n",
        "B=3.5 # float\n",
        "\n",
        "Explicit type casting involves manually converting data types using int(), float() str() etc.\n",
        "\n",
        "   Example : -\n",
        "\n",
        "\tNum_str=”2342”\n",
        "\n"
      ]
    },
    {
      "cell_type": "markdown",
      "metadata": {
        "id": "7306DU-u_jHL"
      },
      "source": [
        "\n",
        "11.what is the purpose of the conditional statement in the python ?\n",
        "\n",
        " - The purpose of conditional statements in Python is make decisions and execute certain blocks of code based on whether a given condition  True or False  it controlling the flow of  in a program.\n",
        "\n",
        "\tDecision making:- it is take the decision based on the user input\n",
        "  \n",
        "  .\n",
        "\tFlow control: -  conditional statement  control the flow of a program execution determining which block of code to execute or keep.\n"
      ]
    },
    {
      "cell_type": "code",
      "execution_count": null,
      "metadata": {
        "id": "bZcFwoHK-7Yf"
      },
      "outputs": [],
      "source": []
    },
    {
      "cell_type": "markdown",
      "metadata": {
        "id": "FKxfBbrO_8A2"
      },
      "source": [
        " 12.How does the elif statement Works?\n",
        "  - First, the program checks the if condition:\n",
        "\n",
        "If the condition evaluates to True the corresponding block of code is executed and the elif and else blocks are skipped.\n",
        "\n",
        "If the if condition is False, the program checks the first elif condition:\n",
        "\n",
        "If the condition of the elif statement is True, that block of code is executed, and the program skips any remaining elif or else blocks.\n",
        "\n",
        "number = -2\n",
        "\n",
        "if number > 0:\n",
        "\n",
        "    print(\"Positive number\")\n",
        "\n",
        "elif number < 0:\n",
        "\n",
        "    print(\"Negative number\")\n",
        "\n",
        "else:\n",
        "\n",
        "    print(\"Zero\")\n"
      ]
    },
    {
      "cell_type": "markdown",
      "metadata": {
        "id": "VXNS3yUKBF41"
      },
      "source": [
        "13. what is the difference between for loop and while loop in python?\n",
        " - For and while loops are used to execute a block of code repeatedly, but they differ in how they determine when to stop.\n",
        "\n",
        "  for loop:\n",
        "\n",
        "•\tA for loop is typically used when you know how many times you want the loop to execute.\n",
        "\n",
        "•\tIt iterates over a predefined collection or range, executing the block of code for each item in the collection.\n",
        "\n",
        "EXAMPLE: -\n",
        "\n",
        "for i in range (5):\n",
        " print(i)\n",
        "\n",
        "2. while loop:\n",
        "\n",
        "•\tA while loop is used when you want to repeat a block of code as long as a condition is true.  the loop continues executing until the condition becomes false.\n",
        "\n",
        "EXAMPLE: -\n",
        "\n",
        "i=0\n",
        "\n",
        "While i<5:\n",
        "\n",
        "Print(i)\n",
        "\n",
        "i+=1\n"
      ]
    },
    {
      "cell_type": "markdown",
      "metadata": {
        "id": "F1NAjnPc_5Fo"
      },
      "source": []
    }
  ],
  "metadata": {
    "colab": {
      "provenance": []
    },
    "kernelspec": {
      "display_name": "Python 3",
      "name": "python3"
    },
    "language_info": {
      "name": "python"
    }
  },
  "nbformat": 4,
  "nbformat_minor": 0
}
